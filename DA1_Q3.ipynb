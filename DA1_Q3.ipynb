{
  "nbformat": 4,
  "nbformat_minor": 0,
  "metadata": {
    "colab": {
      "name": "DA1_Q3.ipynb",
      "provenance": [],
      "collapsed_sections": [],
      "authorship_tag": "ABX9TyNEVbjOCYs/hDNEIdyhIHit",
      "include_colab_link": true
    },
    "kernelspec": {
      "display_name": "Python 3",
      "name": "python3"
    },
    "language_info": {
      "name": "python"
    }
  },
  "cells": [
    {
      "cell_type": "markdown",
      "metadata": {
        "id": "view-in-github",
        "colab_type": "text"
      },
      "source": [
        "<a href=\"https://colab.research.google.com/github/bachinaram/DataAnalytics1/blob/main/DA1_Q3.ipynb\" target=\"_parent\"><img src=\"https://colab.research.google.com/assets/colab-badge.svg\" alt=\"Open In Colab\"/></a>"
      ]
    },
    {
      "cell_type": "code",
      "metadata": {
        "id": "J2CxFntKYhO5"
      },
      "source": [
        "import matplotlib.pyplot as plt\n",
        "%matplotlib inline\n",
        "\n",
        "\n",
        "import numpy as np\n",
        "from numpy import where\n",
        "from numpy import unique\n",
        "\n",
        "import pandas as pd\n",
        "pd.set_option('display.width', 1000)\n",
        "pd.set_option('display.max_rows', 600)\n",
        "pd.set_option('display.max_columns', 600)\n",
        "\n",
        "\n",
        "from sklearn.cluster import AgglomerativeClustering\n",
        "from sklearn.cluster import KMeans\n",
        "from scipy.cluster.hierarchy import dendrogram\n",
        "import scipy.cluster.hierarchy as shc\n",
        "import seaborn as sns\n",
        "import math\n",
        "from sklearn.metrics import silhouette_score\n",
        "from sklearn.preprocessing import normalize\n",
        "from sklearn.preprocessing import MinMaxScaler\n",
        "from sklearn.preprocessing import StandardScaler\n",
        "\n"
      ],
      "execution_count": 54,
      "outputs": []
    },
    {
      "cell_type": "code",
      "metadata": {
        "id": "T98W68UUYivb"
      },
      "source": [
        "df = pd.read_csv('/content/sample_data/football_data.csv')"
      ],
      "execution_count": 55,
      "outputs": []
    },
    {
      "cell_type": "markdown",
      "metadata": {
        "id": "5jq6PFo4ctuE"
      },
      "source": [
        "Data Cleaning\n"
      ]
    },
    {
      "cell_type": "code",
      "metadata": {
        "id": "TmO-pU4CZvWR"
      },
      "source": [
        ""
      ],
      "execution_count": 55,
      "outputs": []
    },
    {
      "cell_type": "code",
      "metadata": {
        "colab": {
          "base_uri": "https://localhost:8080/"
        },
        "id": "kypdJfOQdsXK",
        "outputId": "5a54a04a-43e3-465e-d46e-37c98b235482"
      },
      "source": [
        "a=[10,20];b=[30,40]\n",
        "for i,j in a,b:\n",
        "  print(i)\n",
        "  print(j)"
      ],
      "execution_count": 56,
      "outputs": [
        {
          "output_type": "stream",
          "name": "stdout",
          "text": [
            "10\n",
            "20\n",
            "30\n",
            "40\n"
          ]
        }
      ]
    },
    {
      "cell_type": "code",
      "metadata": {
        "id": "4fs-fP70Yzlg"
      },
      "source": [
        "def last_feature(my_value):\n",
        "  if type(my_value) is float:\n",
        "    return np.nan\n",
        "  elif my_value == '':\n",
        "    return np.nan\n",
        "  elif my_value == np.nan:\n",
        "    return np.nan\n",
        "  elif my_value == ' ':\n",
        "    return np.nan\n",
        "  start = -10+6\n",
        "  value_size = len(my_value)\n",
        "\n",
        "  if value_size > 4:\n",
        "    my_value = my_value[start:value_size]\n",
        "  my_result = float(my_value)\n",
        "  return my_result"
      ],
      "execution_count": 57,
      "outputs": []
    },
    {
      "cell_type": "code",
      "metadata": {
        "id": "wXdt3eeVY4E-"
      },
      "source": [
        "def convert_feet_to_inches(my_value):\n",
        "  output=0\n",
        "  first_of_my_value = 0\n",
        "  second_of_my_value=0\n",
        "  \n",
        "  if type(my_value) is float:\n",
        "    return np.nan\n",
        "  elif my_value == '':\n",
        "    return np.nan\n",
        "  elif my_value == np.nan:\n",
        "    return np.nan\n",
        "  elif my_value == ' ':\n",
        "    return np.nan\n",
        "\n",
        "  value_size = len(my_value)\n",
        "  my_value = my_value.split('\\'')\n",
        "  if value_size == 1:\n",
        "    \n",
        "    first_of_my_value = int(my_value[0])\n",
        "    output = first_of_my_value*12\n",
        "    return output\n",
        "  else:\n",
        "    first_of_my_value = int(my_value[0])\n",
        "    second_of_my_value=my_value[1]\n",
        "    output = first_of_my_value*12\n",
        "    final_result= float(output)+float(second_of_my_value)\n",
        "    return final_result\n",
        "\n",
        " "
      ],
      "execution_count": 58,
      "outputs": []
    },
    {
      "cell_type": "code",
      "metadata": {
        "id": "DnOqpwerY4xF"
      },
      "source": [
        "def convert_wt_to_float(my_value):\n",
        "  if type(my_value) is float:\n",
        "    return np.nan\n",
        "  elif my_value == '':\n",
        "    return np.nan\n",
        "  elif my_value == np.nan:\n",
        "    return np.nan\n",
        "  elif my_value == ' ':\n",
        "    return np.nan\n",
        "\n",
        "\n",
        "  act_len = len(my_value)\n",
        "  act_len_final = act_len-3\n",
        "  index=0\n",
        "  my_value = my_value[index:act_len_final]\n",
        "  result = float(my_value)\n",
        "  return result\n",
        "\n"
      ],
      "execution_count": 59,
      "outputs": []
    },
    {
      "cell_type": "code",
      "metadata": {
        "id": "hoPKc-0ZY6xO"
      },
      "source": [
        "def remove_time_feature(my_value):\n",
        "  if type(my_value) is float:\n",
        "    return np.nan\n",
        "  elif my_value == '':\n",
        "    return np.nan\n",
        "  elif my_value == np.nan:\n",
        "    return np.nan\n",
        "  elif my_value == ' ':\n",
        "    return np.nan\n",
        "  act_len = len(my_value)\n",
        "  act_len_final = act_len-1\n",
        "  start=1\n",
        "  my_value = my_value[start:act_len_final]\n",
        "  result = float(my_value)\n",
        "  return result"
      ],
      "execution_count": 60,
      "outputs": []
    },
    {
      "cell_type": "code",
      "metadata": {
        "id": "gfb6vuNlY8hw"
      },
      "source": [
        "def allnumeric_to_alldouble(my_value):\n",
        "  if type(my_value) is float:\n",
        "    return np.nan\n",
        "  elif my_value == '':\n",
        "    return np.nan\n",
        "  elif my_value == np.nan:\n",
        "    return np.nan\n",
        "  elif my_value == ' ':\n",
        "    return np.nan\n",
        "  \n",
        "\n",
        "  my_value = my_value.split('+')\n",
        "  second_part=float(int(my_value[1]))\n",
        "  first_part=float(int(my_value[0]))\n",
        "  output = first_part + second_part\n",
        "  return output"
      ],
      "execution_count": 61,
      "outputs": []
    },
    {
      "cell_type": "code",
      "metadata": {
        "id": "ceRH1jnmZAon"
      },
      "source": [
        "def eclu_dist(a,b):\n",
        "    formul = 0\n",
        "    size=len(a)\n",
        "    for eachV in range(size):\n",
        "        formul = formul + ((a[eachV] - b[eachV]) ** 2)\n",
        "    return formul"
      ],
      "execution_count": 62,
      "outputs": []
    },
    {
      "cell_type": "code",
      "metadata": {
        "id": "VsKEkD_Etecc"
      },
      "source": [
        "def numeric_to_float(myvalue):\n",
        "  a=myvalue[1]\n",
        "  if myvalue == ' ':\n",
        "    return np.nan\n",
        "  elif myvalue == '':\n",
        "    return np.nan\n",
        "  elif myvalue == np.nan:\n",
        "    return np.nan\n",
        "  if a == '0':\n",
        "    return np.nan\n",
        "  act_len = len(myvalue)\n",
        "  act_len_final = act_len -1  \n",
        "  myvalue = myvalue[1:act_len_final]\n",
        "  return float(myvalue)"
      ],
      "execution_count": 63,
      "outputs": []
    },
    {
      "cell_type": "code",
      "metadata": {
        "id": "8jVSgd6-ZBJh"
      },
      "source": [
        "def find_dist_score(centroid,cluster):\n",
        "  intial_score = 0\n",
        "  for i in range(len(centroid)):\n",
        "    for j in range(len(cluster[i])):\n",
        "      intial_score = intial_score + eclu_dist(cluster[i][j],centroid[i])\n",
        "  result_score = math.sqrt(intial_score)\n",
        "  return result_score"
      ],
      "execution_count": 64,
      "outputs": []
    },
    {
      "cell_type": "code",
      "metadata": {
        "id": "oxb-foYakHO9"
      },
      "source": [
        "\n",
        "\n",
        "def divisive(every_cluster, t_c,inc):\n",
        "  z=len(call)\n",
        "  if z == t_c:\n",
        "    return\n",
        "  twomeans = KMeans(n_clusters=2,random_state=42)\n",
        "  twomeans.fit(every_cluster)\n",
        "  centroids = twomeans.cluster_centers_\n",
        "  for i in range(2):\n",
        "    all_centroids.append(centroids[i])\n",
        "  labels = twomeans.labels_\n",
        "  external=[];in1=[];in2 =[];c1=[];c2=[]\n",
        "  lab = inall.pop(inc)\n",
        "  length_of_labels=len(labels)\n",
        "\n",
        "  for i in range(length_of_labels):\n",
        "    if labels[i] == 0:\n",
        "      c1.append(every_cluster[i])\n",
        "      in1.append(lab[i])\n",
        "    else:\n",
        "      c2.append(every_cluster[i])\n",
        "      in2.append(lab[i])\n",
        "\n",
        "  clist=['c1','c2'];inlist=['in1','in2']\n",
        "\n",
        "  #for i,j in clist,inlist:\n",
        "    #call.append(i)\n",
        "    #inall.append(j)\n",
        "\n",
        "  call.append(c1)\n",
        "  call.append(c2)\n",
        "  inall.append(in1)\n",
        "  inall.append(in2)\n",
        "\n",
        "\n",
        "  z1 = len(call)\n",
        "  if z1 == t_c:\n",
        "    return\n",
        "\n",
        "#for j in all_clusters[i]:\n",
        "\n",
        "  for i in range(z1):\n",
        "    internal = 0\n",
        "    for j in call[i]:\n",
        "      internal = internal + eclu_dist(all_centroids[i],j)\n",
        "    \n",
        "    tmp1=len(call[i])\n",
        "    tmp2=internal/tmp1\n",
        "    external.append(tmp2)\n",
        "\n",
        "  max_value = max(external)  \n",
        "  pointer = external.index(max_value)\n",
        "\n",
        "  every_cluster = call.pop(pointer)\n",
        "  all_centroids.pop(pointer)\n",
        "  if len(call) == t_c:\n",
        "    return\n",
        "\n",
        "  divisive(every_cluster,t_c,pointer)\n",
        "  "
      ],
      "execution_count": 86,
      "outputs": []
    },
    {
      "cell_type": "code",
      "metadata": {
        "id": "Uu2hmNVSZJYb"
      },
      "source": [
        "df.drop(df.columns[24], axis=1, inplace=True)\n",
        "df['LDM'] = df['LDM'].apply(allnumeric_to_alldouble)\n",
        "df['LS'] = df['LS'].apply(allnumeric_to_alldouble)\n",
        "df['ST'] = df['ST'].apply(allnumeric_to_alldouble)\n",
        "df['Wage'] = df['Wage'].apply(numeric_to_float)\n",
        "df['LF'] = df['LF'].apply(allnumeric_to_alldouble)\n",
        "df['CF'] = df['CF'].apply(allnumeric_to_alldouble)\n",
        "df['RM'] = df['RM'].apply(allnumeric_to_alldouble)\n",
        "df['Release Clause'] = df['Release Clause'].apply(remove_time_feature)\n",
        "df['RF'] = df['RF'].apply(allnumeric_to_alldouble)\n",
        "df['RW'] = df['RW'].apply(allnumeric_to_alldouble)\n",
        "df['Weight'] = df['Weight'].apply(convert_wt_to_float)\n",
        "df['CAM'] = df['CAM'].apply(allnumeric_to_alldouble)\n",
        "df['RB'] = df['RB'].apply(allnumeric_to_alldouble)\n",
        "df['LCB'] = df['LCB'].apply(allnumeric_to_alldouble)\n",
        "df['RAM'] = df['RAM'].apply(allnumeric_to_alldouble)\n",
        "df['LM'] = df['LM'].apply(allnumeric_to_alldouble)\n",
        "df['RS'] = df['RS'].apply(allnumeric_to_alldouble)\n",
        "df['LW'] = df['LW'].apply(allnumeric_to_alldouble)\n",
        "df['CM'] = df['CM'].apply(allnumeric_to_alldouble)\n",
        "df['Height'] = df['Height'].apply(convert_feet_to_inches)\n",
        "df['RCM'] = df['RCM'].apply(allnumeric_to_alldouble)\n",
        "df['LWB'] = df['LWB'].apply(allnumeric_to_alldouble)\n",
        "df['Value'] = df['Value'].apply(numeric_to_float)\n",
        "df['LCM'] = df['LCM'].apply(allnumeric_to_alldouble)\n",
        "df['RDM'] = df['RDM'].apply(allnumeric_to_alldouble)\n",
        "df['LAM'] = df['LAM'].apply(allnumeric_to_alldouble)\n",
        "df['RWB'] = df['RWB'].apply(allnumeric_to_alldouble)\n",
        "df['LB'] = df['LB'].apply(allnumeric_to_alldouble)\n",
        "df['CB'] = df['CB'].apply(allnumeric_to_alldouble)\n",
        "df['RCB'] = df['RCB'].apply(allnumeric_to_alldouble)\n",
        "df['CDM'] = df['CDM'].apply(allnumeric_to_alldouble)\n",
        "df['Contract Valid Until'] = df['Contract Valid Until'].apply(last_feature)\n"
      ],
      "execution_count": 66,
      "outputs": []
    },
    {
      "cell_type": "code",
      "metadata": {
        "id": "zU29Z_YnZMHx"
      },
      "source": [
        "dframeNumber = df.select_dtypes(include=['float64','int64'])\n",
        "\n",
        "dframeNumber_sample = dframeNumber.drop(dframeNumber.columns[[0, 1]], axis=1)\n",
        "\n",
        "features = list(dframeNumber_sample.columns)\n",
        "\n"
      ],
      "execution_count": 67,
      "outputs": []
    },
    {
      "cell_type": "code",
      "metadata": {
        "id": "pvGds78L65hy"
      },
      "source": [
        "user_cts = [3,5,7,9,11]\n",
        "for feature in features :\n",
        "  dframeNumber_sample[feature]=dframeNumber_sample[feature].apply(lambda ab: float(ab))\n",
        "  dframeNumber_sample.fillna(value=dframeNumber_sample[feature].mean(),inplace= True)\n",
        "convert_to_min_max = MinMaxScaler()\n",
        "normalizeData = convert_to_min_max.fit_transform(dframeNumber_sample)\n",
        "data_scale_array = np.array(normalizeData)\n",
        "array_of_scores=[];silhscore=[];full_st = []"
      ],
      "execution_count": 68,
      "outputs": []
    },
    {
      "cell_type": "markdown",
      "metadata": {
        "id": "qW0t3TTGcp2Y"
      },
      "source": [
        "Agglomerative approach"
      ]
    },
    {
      "cell_type": "markdown",
      "metadata": {
        "id": "NMaR9U8Hch2i"
      },
      "source": [
        "looping array of clusters"
      ]
    },
    {
      "cell_type": "code",
      "metadata": {
        "id": "_KeBwuvzZTuG"
      },
      "source": [
        "for clst in user_cts:\n",
        "  data_scale_array = normalizeData.copy()\n",
        "  bottomup = AgglomerativeClustering(n_clusters=clst,affinity='euclidean', linkage='ward')\n",
        "  bottomup.fit(data_scale_array)\n",
        "  cfeatures = bottomup.labels_\n",
        "  bottomupclt = bottomup.fit_predict(data_scale_array)\n",
        "  full_st.append(silhouette_score(data_scale_array,bottomupclt))"
      ],
      "execution_count": 69,
      "outputs": []
    },
    {
      "cell_type": "code",
      "metadata": {
        "colab": {
          "base_uri": "https://localhost:8080/",
          "height": 295
        },
        "id": "UGuZcDISZjjv",
        "outputId": "310cdd31-898e-4304-98bd-e92d26ebf1ae"
      },
      "source": [
        "\n",
        "plt.plot(user_cts, full_st) \n",
        "plt.title('Silhouette Score and Total Clusters') \n",
        "plt.xlabel('clusters')\n",
        "plt.ylabel('Silhouette Score')\n",
        "plt.show()"
      ],
      "execution_count": 70,
      "outputs": [
        {
          "output_type": "display_data",
          "data": {
            "image/png": "[encoded data removed]",
            "text/plain": [
              "<Figure size 432x288 with 1 Axes>"
            ]
          },
          "metadata": {
            "needs_background": "light"
          }
        }
      ]
    },
    {
      "cell_type": "markdown",
      "metadata": {
        "id": "S1oKYgpLcQIS"
      },
      "source": [
        "Dendogram Agglomerative Clustering"
      ]
    },
    {
      "cell_type": "code",
      "metadata": {
        "colab": {
          "base_uri": "https://localhost:8080/",
          "height": 1000
        },
        "id": "OvvWIKPbZkAp",
        "outputId": "e413c190-e11e-40a8-c685-ba8784555f90"
      },
      "source": [
        "\n",
        "plt.figure(figsize=(20, 20))  \n",
        "plt.title(\"Dendrogram\")  \n",
        "dend = shc.dendrogram(shc.linkage(normalizeData, method='ward'))\n",
        "plt.axhline(y=100, color='y', linestyle='solid')"
      ],
      "execution_count": 71,
      "outputs": [
        {
          "output_type": "execute_result",
          "data": {
            "text/plain": [
              "<matplotlib.lines.Line2D at 0x7f8a2d0a2f90>"
            ]
          },
          "metadata": {},
          "execution_count": 71
        },
        {
          "output_type": "display_data",
          "data": {
            "image/png": "[encoded data removed]",
            "text/plain": [
              "<Figure size 1440x1440 with 1 Axes>"
            ]
          },
          "metadata": {
            "needs_background": "light"
          }
        }
      ]
    },
    {
      "cell_type": "markdown",
      "metadata": {
        "id": "x5ME3gGmcMNy"
      },
      "source": [
        "3 Cluster configuration"
      ]
    },
    {
      "cell_type": "code",
      "metadata": {
        "id": "ziL9YPqmZmtP"
      },
      "source": [
        "data_scale_array = normalizeData.copy()\n",
        "bottomup = AgglomerativeClustering(n_clusters=3,affinity='euclidean', linkage='ward')\n",
        "bottomup.fit(data_scale_array)\n",
        "cfeatures = bottomup.labels_\n",
        "bottomupclt = bottomup.fit_predict(data_scale_array)"
      ],
      "execution_count": 72,
      "outputs": []
    },
    {
      "cell_type": "markdown",
      "metadata": {
        "id": "p_F_v94zcJTF"
      },
      "source": [
        "Finding Correlation Matrix and the most Correlated Attributes."
      ]
    },
    {
      "cell_type": "code",
      "metadata": {
        "id": "X9MS_tI-Zons"
      },
      "source": [
        "\n"
      ],
      "execution_count": 72,
      "outputs": []
    },
    {
      "cell_type": "code",
      "metadata": {
        "id": "PTSHy60hZqww"
      },
      "source": [
        ""
      ],
      "execution_count": 72,
      "outputs": []
    },
    {
      "cell_type": "markdown",
      "metadata": {
        "id": "PGldnJA8cFYV"
      },
      "source": [
        "Distortion and Silhouette Score"
      ]
    },
    {
      "cell_type": "code",
      "metadata": {
        "id": "cTsf0ga1Zsi1"
      },
      "source": [
        "\n",
        "\n",
        "from sklearn.neighbors.nearest_centroid import NearestCentroid\n",
        "nearestcentroid = NearestCentroid()\n",
        "nearestcentroid.fit(data_scale_array, bottomupclt)\n",
        "centroids = nearestcentroid.centroids_"
      ],
      "execution_count": 73,
      "outputs": []
    },
    {
      "cell_type": "code",
      "metadata": {
        "id": "-K3uLHcVZvUs",
        "colab": {
          "base_uri": "https://localhost:8080/"
        },
        "outputId": "fed3eb79-3ed2-4d65-cd8c-cb01a6c15a1d"
      },
      "source": [
        "\n",
        "\n",
        "silhscore=[];array_of_scores=[];all_clusters=[];cluster1=[];cluster2=[];cluster3=[]\n",
        "first_value = bottomupclt.shape[0]\n",
        "t=0\n",
        "\n",
        "for every_element in range(first_value):\n",
        "  if(bottomupclt[every_element] == t):\n",
        "    cluster1.append(data_scale_array[every_element])\n",
        "    t=t+1\n",
        "for every_element in range(first_value):\n",
        "  if(bottomupclt[every_element] == t):\n",
        "    cluster2.append(data_scale_array[every_element])\n",
        "    t=t+1\n",
        "for every_element in range(first_value):\n",
        "  if(bottomupclt[every_element] == t):\n",
        "    cluster3.append(data_scale_array[every_element])\n",
        "\n",
        "\n",
        "array1_cluster = np.array(cluster1)\n",
        "array2_cluster = np.array(cluster2)\n",
        "array3_cluster = np.array(cluster3)\n",
        "all_clusters.append(array1_cluster)\n",
        "all_clusters.append(array2_cluster)\n",
        "all_clusters.append(array3_cluster)\n",
        "d = find_dist_score(centroids, all_clusters)\n",
        "array_of_scores.append(d)\n",
        "e = silhouette_score(data_scale_array, cfeatures)\n",
        "silhscore.append(e)\n",
        "print(\"Silhouette Score is \",silhouette_score(data_scale_array, bottomupclt))\n",
        "print(\"Distortion is \",array_of_scores[0])\n"
      ],
      "execution_count": 74,
      "outputs": [
        {
          "output_type": "stream",
          "name": "stdout",
          "text": [
            "Silhouette Score is  0.2502321210282322\n",
            "Distortion is  5.1609163368778015\n"
          ]
        }
      ]
    },
    {
      "cell_type": "code",
      "metadata": {
        "id": "qk6tEFwOZxzc"
      },
      "source": [
        "\n",
        "\n",
        "\n"
      ],
      "execution_count": 74,
      "outputs": []
    },
    {
      "cell_type": "markdown",
      "metadata": {
        "id": "vhcRxvmCcCAs"
      },
      "source": [
        "Cluster Name"
      ]
    },
    {
      "cell_type": "code",
      "metadata": {
        "id": "_6xFRwnYZzQG"
      },
      "source": [
        ""
      ],
      "execution_count": 88,
      "outputs": []
    },
    {
      "cell_type": "markdown",
      "metadata": {
        "id": "NkYJwTA1b9kr"
      },
      "source": [
        "Number of Points in Clusters"
      ]
    },
    {
      "cell_type": "code",
      "metadata": {
        "colab": {
          "base_uri": "https://localhost:8080/",
          "height": 292
        },
        "id": "Wigto5ldZ1kI",
        "outputId": "ee6fdd0e-71f7-4dc9-934f-c3c19b7e43b6"
      },
      "source": [
        "\n",
        "\n",
        "\n",
        "\n",
        "\n",
        "\n",
        "target_counts = pd.Series(bottomupclt).value_counts()\n",
        "target_counts.plot.bar(color=['#aa7a4a', '#abae91', '#afe4d9'], edgecolor='black');\n",
        "plt.title('Cluster Counts')\n",
        "plt.xlabel('Clusters')\n",
        "plt.ylabel('Total');\n",
        "\n"
      ],
      "execution_count": 77,
      "outputs": [
        {
          "output_type": "display_data",
          "data": {
            "image/png": "[encoded data removed]",
            "text/plain": [
              "<Figure size 432x288 with 1 Axes>"
            ]
          },
          "metadata": {
            "needs_background": "light"
          }
        }
      ]
    },
    {
      "cell_type": "markdown",
      "metadata": {
        "id": "z4s-vStYFDL6"
      },
      "source": [
        ""
      ]
    },
    {
      "cell_type": "code",
      "metadata": {
        "colab": {
          "base_uri": "https://localhost:8080/",
          "height": 265
        },
        "id": "UZCmofTJZ41p",
        "outputId": "09155c13-0f78-4fe5-97c4-88e7126730fb"
      },
      "source": [
        "myFinalGroup = unique(bottomupclt)\n",
        "for eachclus in myFinalGroup:\n",
        "\ti = where(bottomupclt == eachclus)\n",
        "\tplt.scatter(data_scale_array[i, 13], data_scale_array[i, 43])\n",
        " "
      ],
      "execution_count": 78,
      "outputs": [
        {
          "output_type": "display_data",
          "data": {
            "image/png": "[encoded data removed]",
            "text/plain": [
              "<Figure size 432x288 with 1 Axes>"
            ]
          },
          "metadata": {
            "needs_background": "light"
          }
        }
      ]
    },
    {
      "cell_type": "markdown",
      "metadata": {
        "id": "PYsqXuA3bzWw"
      },
      "source": [
        "Top Down Approach"
      ]
    },
    {
      "cell_type": "code",
      "metadata": {
        "id": "mAtSJz2hZ89R"
      },
      "source": [
        ""
      ],
      "execution_count": null,
      "outputs": []
    },
    {
      "cell_type": "markdown",
      "metadata": {
        "id": "aR3ukjoAbyb6"
      },
      "source": [
        "Body of The Top Down Approach"
      ]
    },
    {
      "cell_type": "code",
      "metadata": {
        "id": "XuuIHFU-Z-6M"
      },
      "source": [
        ""
      ],
      "execution_count": null,
      "outputs": []
    },
    {
      "cell_type": "markdown",
      "metadata": {
        "id": "Ex5ta_vjboRS"
      },
      "source": [
        "Number of CLuster = 3"
      ]
    },
    {
      "cell_type": "code",
      "metadata": {
        "id": "ac3QRl1paAyT"
      },
      "source": [
        "\n",
        "\n",
        "final_score=[]\n",
        "for k in user_cts:\n",
        "  start = 0\n",
        "  data_scale_array = normalizeData.copy()\n",
        "  range_val = data_scale_array.shape[0]\n",
        "  cache = [];inall = [];all_centroids = [];call = []\n",
        "  for eachVal in range(range_val):\n",
        "    cache.append(eachVal)\n",
        "  inall.append(cache)\n",
        "  \n",
        "  divisive(data_scale_array,k,start)\n",
        "  label = [None]*data_scale_array.shape[0]\n",
        "\n",
        "  l = 0\n",
        "  for m in inall:\n",
        "    for i in m:\n",
        "      label[i] = l\n",
        "    l = l+1\n",
        "  x = silhouette_score(data_scale_array,label)\n",
        "  final_score.append(x)"
      ],
      "execution_count": 88,
      "outputs": []
    },
    {
      "cell_type": "markdown",
      "metadata": {
        "id": "MyTljsCjbeL3"
      },
      "source": [
        "DIVISIVE approach - Silhouette Score and Total Clusters"
      ]
    },
    {
      "cell_type": "code",
      "metadata": {
        "colab": {
          "base_uri": "https://localhost:8080/",
          "height": 309
        },
        "id": "xVB6NEpQaRb4",
        "outputId": "13c16736-7168-4f70-8211-208a192ce9a7"
      },
      "source": [
        "\n",
        "plt.plot(user_cts, final_score) \n",
        "plt.title('Silhouette Score and Total Clusters') \n",
        "plt.xlabel('clusters')\n",
        "plt.ylabel('Silhouette Score')\n",
        "plt.show()"
      ],
      "execution_count": null,
      "outputs": [
        {
          "output_type": "display_data",
          "data": {
            "image/png": "[encoded data removed]",
            "text/plain": [
              "<Figure size 432x288 with 1 Axes>"
            ]
          },
          "metadata": {
            "needs_background": "light"
          }
        }
      ]
    },
    {
      "cell_type": "markdown",
      "metadata": {
        "id": "X0a_KXKHba04"
      },
      "source": [
        "Best Top Down Model with Cluster Number = 3"
      ]
    },
    {
      "cell_type": "code",
      "metadata": {
        "id": "JIMTvig7aT-0"
      },
      "source": [
        "\n",
        "\n",
        "data_scale_array = normalizeData.copy()\n",
        "cache = [];inall = [];all_centroids = [];call = []\n",
        "for eachVal in range(range_val):\n",
        "  cache.append(eachVal)\n",
        "inall.append(cache)\n",
        "  \n",
        "divisive(data_scale_array,3,start)\n",
        "label = [None]*data_scale_array.shape[0]\n",
        "\n",
        "l = 0\n",
        "for m in inall:\n",
        "  for i in m:\n",
        "    label[i] = l\n",
        "  l = l+1\n"
      ],
      "execution_count": 91,
      "outputs": []
    },
    {
      "cell_type": "code",
      "metadata": {
        "id": "npBR4q-daVrA",
        "colab": {
          "base_uri": "https://localhost:8080/"
        },
        "outputId": "f0a7277d-8f4a-4cf6-c499-afd31defb842"
      },
      "source": [
        "array_of_scores.append(find_dist_score(all_centroids,call))\n",
        "silhscore.append(silhouette_score(data_scale_array,label))\n",
        "\n",
        "#intra distortion and silhouette\n",
        "print(\"Silhouette Score is \",silhscore[1])\n",
        "print(\"Distortion is \",array_of_scores[1])"
      ],
      "execution_count": 94,
      "outputs": [
        {
          "output_type": "stream",
          "name": "stdout",
          "text": [
            "Silhouette Score is  0.26305294569383864\n",
            "Distortion is  144.59723205507896\n"
          ]
        }
      ]
    },
    {
      "cell_type": "code",
      "metadata": {
        "id": "rnXTrRgmaXn8"
      },
      "source": [
        ""
      ],
      "execution_count": 94,
      "outputs": []
    },
    {
      "cell_type": "markdown",
      "metadata": {
        "id": "doWL_k6IbQkZ"
      },
      "source": [
        "Dendrogram of Divisive Clustering"
      ]
    },
    {
      "cell_type": "code",
      "metadata": {
        "colab": {
          "base_uri": "https://localhost:8080/",
          "height": 645
        },
        "id": "35NJCUaLaZUS",
        "outputId": "4d6fd7db-f464-4232-ceda-14dbcd59eb65"
      },
      "source": [
        "\n",
        "\n",
        "from scipy.cluster.hierarchy import linkage, dendrogram\n",
        "data_scale_array = normalizeData.copy()\n",
        "distances = linkage(data_scale_array, method=\"centroid\", metric=\"euclidean\")\n",
        "def annotated_dendrogram(*args, **kwargs):\n",
        "    dendogram1 = dendrogram(*args, truncate_mode='lastp', show_contracted=True,leaf_rotation=90.)\n",
        "\n",
        "    plt.title('Divisive Dendrogram')\n",
        "    plt.xlabel('cluster size')\n",
        "    plt.ylabel('distance')\n",
        "    \n",
        "    for i, d, c in zip(dendogram1['icoord'], dendogram1['dcoord'], dendogram1['color_list']):\n",
        "        x = 0.5 * sum(i[1:3])\n",
        "        y = d[1]\n",
        "        if y > 10:\n",
        "            plt.plot(x, y, 'o', c=c)\n",
        "            plt.annotate(\"%.3g\" % y, (x, y), xytext=(0, -5),\n",
        "                         textcoords='offset points',\n",
        "                         va='top', ha='center')\n",
        "    return dendogram1\n",
        "plt.figure(figsize=(10,10))\n",
        "dn = annotated_dendrogram(distances)\n",
        "plt.show()"
      ],
      "execution_count": 95,
      "outputs": [
        {
          "output_type": "display_data",
          "data": {
            "image/png": "[encoded data removed]",
            "text/plain": [
              "<Figure size 720x720 with 1 Axes>"
            ]
          },
          "metadata": {
            "needs_background": "light"
          }
        }
      ]
    },
    {
      "cell_type": "code",
      "metadata": {
        "id": "KTyhOffSabRu"
      },
      "source": [
        ""
      ],
      "execution_count": 95,
      "outputs": []
    },
    {
      "cell_type": "code",
      "metadata": {
        "id": "OwViokRUadU2"
      },
      "source": [
        ""
      ],
      "execution_count": 95,
      "outputs": []
    },
    {
      "cell_type": "markdown",
      "metadata": {
        "id": "hoBpq7TzbGAY"
      },
      "source": [
        "Cluster Names"
      ]
    },
    {
      "cell_type": "code",
      "metadata": {
        "id": "m6xSrs0wafTU"
      },
      "source": [
        ""
      ],
      "execution_count": 95,
      "outputs": []
    },
    {
      "cell_type": "code",
      "metadata": {
        "id": "DcUats7p_8r6"
      },
      "source": [
        ""
      ],
      "execution_count": null,
      "outputs": []
    },
    {
      "cell_type": "markdown",
      "metadata": {
        "id": "TA6NK5IrbCl6"
      },
      "source": [
        "Number of Points in a Cluster"
      ]
    },
    {
      "cell_type": "code",
      "metadata": {
        "colab": {
          "base_uri": "https://localhost:8080/",
          "height": 344
        },
        "id": "QbFcEmmGahfH",
        "outputId": "591f3507-217f-42f3-8488-628678acfa03"
      },
      "source": [
        "\n",
        "\n",
        "target_counts = pd.Series(label).value_counts()\n",
        "target_counts.plot.bar(color=['Red', 'green', 'blue']);\n",
        "\n",
        "plt.title('Cluster Counts')\n",
        "plt.xlabel('Cluster')\n",
        "plt.ylabel('Total');\n",
        "print(\"Cluster0 \", target_counts[0])\n",
        "print(\"Cluster1 \", target_counts[1])\n",
        "print(\"Cluster2 \", target_counts[2])\n"
      ],
      "execution_count": 97,
      "outputs": [
        {
          "output_type": "stream",
          "name": "stdout",
          "text": [
            "Cluster0  2109\n",
            "Cluster1  8088\n",
            "Cluster2  8010\n"
          ]
        },
        {
          "output_type": "display_data",
          "data": {
            "image/png": "[encoded data removed]",
            "text/plain": [
              "<Figure size 432x288 with 1 Axes>"
            ]
          },
          "metadata": {
            "needs_background": "light"
          }
        }
      ]
    },
    {
      "cell_type": "code",
      "metadata": {
        "id": "QLctPcv8ajOb"
      },
      "source": [
        ""
      ],
      "execution_count": 97,
      "outputs": []
    },
    {
      "cell_type": "markdown",
      "metadata": {
        "id": "9950LpZDa8u0"
      },
      "source": [
        "Cluster Visualization\n"
      ]
    },
    {
      "cell_type": "code",
      "metadata": {
        "colab": {
          "base_uri": "https://localhost:8080/",
          "height": 265
        },
        "id": "ep_J0h3OalBm",
        "outputId": "d8b2be2d-b525-48a9-ad2f-302c5352c3f6"
      },
      "source": [
        "my_final_clust = unique(label)\n",
        "for each_cluster in my_final_clust:\n",
        "\tz = where(label == each_cluster)\n",
        "\tplt.scatter(data_scale_array[z, 14], data_scale_array[z, 37])"
      ],
      "execution_count": 98,
      "outputs": [
        {
          "output_type": "display_data",
          "data": {
            "image/png": "[encoded data removed]",
            "text/plain": [
              "<Figure size 432x288 with 1 Axes>"
            ]
          },
          "metadata": {
            "needs_background": "light"
          }
        }
      ]
    },
    {
      "cell_type": "markdown",
      "metadata": {
        "id": "NyIxZ0rXa0pR"
      },
      "source": [
        "#Comparison of Agglomerative and Divisive"
      ]
    },
    {
      "cell_type": "code",
      "metadata": {
        "colab": {
          "base_uri": "https://localhost:8080/",
          "height": 298
        },
        "id": "-VpFG8E9amzB",
        "outputId": "63fc1b7f-065f-4a59-84ba-1b8d49f25795"
      },
      "source": [
        "D = {'Bottom up':array_of_scores[0],'Top Down':array_of_scores[1]}\n",
        "plt.bar(range(len(D)), list(D.values()), align='center')\n",
        "plt.xticks(range(len(D)), list(D.keys()))\n",
        "plt.title('Distortion of Agglomerative and Divisive')"
      ],
      "execution_count": 99,
      "outputs": [
        {
          "output_type": "execute_result",
          "data": {
            "text/plain": [
              "Text(0.5, 1.0, 'Distortion of Agglomerative and Divisive')"
            ]
          },
          "metadata": {},
          "execution_count": 99
        },
        {
          "output_type": "display_data",
          "data": {
            "image/png": "[encoded data removed]",
            "text/plain": [
              "<Figure size 432x288 with 1 Axes>"
            ]
          },
          "metadata": {
            "needs_background": "light"
          }
        }
      ]
    },
    {
      "cell_type": "code",
      "metadata": {
        "colab": {
          "base_uri": "https://localhost:8080/",
          "height": 298
        },
        "id": "tVh0hKEDapDw",
        "outputId": "a50e5512-1eeb-4ca7-ab82-dbe09436754d"
      },
      "source": [
        "D = {'Agglomerative':silhscore[0],'Divisive':silhscore[1]}\n",
        "plt.bar(range(len(D)), list(D.values()), align='center')\n",
        "plt.xticks(range(len(D)), list(D.keys()))\n",
        "plt.title('Silhouette Score of Agglomerative and Divisive')\n"
      ],
      "execution_count": 100,
      "outputs": [
        {
          "output_type": "execute_result",
          "data": {
            "text/plain": [
              "Text(0.5, 1.0, 'Silhouette Score of Agglomerative and Divisive')"
            ]
          },
          "metadata": {},
          "execution_count": 100
        },
        {
          "output_type": "display_data",
          "data": {
            "image/png": "[encoded data removed]",
            "text/plain": [
              "<Figure size 432x288 with 1 Axes>"
            ]
          },
          "metadata": {
            "needs_background": "light"
          }
        }
      ]
    },
    {
      "cell_type": "code",
      "metadata": {
        "id": "RYDW-qCOasik"
      },
      "source": [
        ""
      ],
      "execution_count": null,
      "outputs": []
    }
  ]
}